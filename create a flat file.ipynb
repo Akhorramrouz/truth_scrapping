{
 "cells": [
  {
   "cell_type": "code",
   "execution_count": 1,
   "id": "1b00eb94",
   "metadata": {},
   "outputs": [],
   "source": [
    "import os\n",
    "import pandas as pd"
   ]
  },
  {
   "cell_type": "code",
   "execution_count": 8,
   "id": "5189dee4",
   "metadata": {},
   "outputs": [],
   "source": [
    "df_txts = []\n",
    "for f_name in os.listdir():\n",
    "    if f_name.endswith(\".csv\"):\n",
    "        df = pd.read_csv(f_name)\n",
    "        if len(df)>5:\n",
    "            df_txts.extend(list(df.text))"
   ]
  },
  {
   "cell_type": "code",
   "execution_count": 19,
   "id": "7c400ff8",
   "metadata": {},
   "outputs": [],
   "source": [
    "with open(\"flat_truth_comments.txt\", \"w\",encoding='utf-8') as fobj:\n",
    "    for x in df_txts:\n",
    "        fobj.write(x + \"\\n \\n \\n \\n \\n\")"
   ]
  },
  {
   "cell_type": "code",
   "execution_count": null,
   "id": "74bd5c86",
   "metadata": {},
   "outputs": [],
   "source": []
  }
 ],
 "metadata": {
  "kernelspec": {
   "display_name": "Python 3 (ipykernel)",
   "language": "python",
   "name": "python3"
  },
  "language_info": {
   "codemirror_mode": {
    "name": "ipython",
    "version": 3
   },
   "file_extension": ".py",
   "mimetype": "text/x-python",
   "name": "python",
   "nbconvert_exporter": "python",
   "pygments_lexer": "ipython3",
   "version": "3.9.13"
  }
 },
 "nbformat": 4,
 "nbformat_minor": 5
}
