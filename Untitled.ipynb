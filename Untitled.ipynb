{
 "cells": [
  {
   "cell_type": "code",
   "execution_count": 7,
   "id": "93747199",
   "metadata": {},
   "outputs": [],
   "source": [
    "from selenium import webdriver\n",
    "from selenium.webdriver.common.by import By\n",
    "import pandas as pd\n",
    "import requests\n",
    "import time\n",
    "from bs4 import BeautifulSoup"
   ]
  },
  {
   "cell_type": "code",
   "execution_count": 5,
   "id": "e3146f53",
   "metadata": {},
   "outputs": [],
   "source": [
    "df = pd.read_csv('all_trumps_post_on_truth.csv',index_col=0)"
   ]
  },
  {
   "cell_type": "code",
   "execution_count": 6,
   "id": "0cd4fd2d",
   "metadata": {},
   "outputs": [],
   "source": [
    "def get_ids(link):\n",
    "    SCROLL_PAUSE_TIME = 1.5\n",
    "    counter  = 0\n",
    "    driver.get(link)\n",
    "    # Get scroll height\n",
    "    last_height = driver.execute_script(\"return document.body.scrollHeight\")\n",
    "    set_post_ids = set()\n",
    "    while True:\n",
    "        counter +=1\n",
    "        if counter>100:\n",
    "            break\n",
    "            \n",
    "            \n",
    "        html = driver.page_source\n",
    "        soup = BeautifulSoup(html,'html.parser')\n",
    "        set_post_ids = set_post_ids.union(set([element.get('data-id') for element in soup.find_all(attrs={'data-id': True})]))\n",
    "        # Scroll down to bottom\n",
    "        driver.execute_script(\"window.scrollTo(0, document.body.scrollHeight);\")\n",
    "\n",
    "        # Wait to load page\n",
    "        time.sleep(SCROLL_PAUSE_TIME)\n",
    "\n",
    "        # Calculate new scroll height and compare with last scroll height\n",
    "        new_height = driver.execute_script(\"return document.body.scrollHeight\")\n",
    "        if new_height == last_height:\n",
    "            break\n",
    "        last_height = new_height\n",
    "        print(len(set_post_ids))\n",
    "    \n",
    "    return set_post_ids"
   ]
  },
  {
   "cell_type": "code",
   "execution_count": 169,
   "id": "80e6f8f8",
   "metadata": {},
   "outputs": [],
   "source": [
    "class Truth_post():\n",
    "    def __init__(self,driver,link):\n",
    "        self.link = link\n",
    "        self.driver = driver\n",
    "        self.driver.get(link)\n",
    "        self.pg_src = self.driver.page_source\n",
    "        self.soup = BeautifulSoup(self.pg_src,'html.parser')\n",
    "        \n",
    "#     def get_time(self):\n",
    "#         try:\n",
    "#             return self.driver.find_element(By.XPATH,'//*[@id=\"thread\"]/div/div[2]/div[1]/div/div/div/div[1]/div/div[3]/div[2]').text\n",
    "#         except:\n",
    "#             return self.driver.find_element(By.XPATH,'//*[@id=\"thread\"]/div/div[2]/div[1]/div/div/div/div[1]/div/div[3]/div[2]/span/a/span').text\n",
    "        \n",
    "        \n",
    "    def get_text(self):\n",
    "        self.driver.implicitly_wait(2)\n",
    "        return self.driver.find_elements(By.CLASS_NAME,'ptr__children')[0].text\n",
    "    \n",
    "    def get_main_author(self):\n",
    "        return self.soup.find_all(\"h1\")[0].text.split(\"'\")[0][1:]\n",
    "        \n",
    "    #TO DO\n",
    "#     def get_number_of_likes(self):\n",
    "#         return self.driver.find_element(By.XPATH,'//*[@id=\"thread\"]/div/div[2]/div[1]/div/div/div/div[1]/div/div[3]/div[1]/button[2]/div/p').text\n",
    "    \n",
    "#     def get_number_of_retweets(self):\n",
    "#         return self.driver.find_element(By.XPATH,'//*[@id=\"thread\"]/div/div[2]/div[1]/div/div/div/div[1]/div/div[3]/div[1]/button[1]/div/p').text\n",
    "    \n",
    "    \n",
    "    def get_all_replies_ids(self):\n",
    "        set_post_ids = get_ids(self.link)\n",
    "        return set_post_ids"
   ]
  },
  {
   "cell_type": "code",
   "execution_count": 9,
   "id": "df446232",
   "metadata": {},
   "outputs": [],
   "source": [
    "driver = webdriver.Chrome()\n",
    "driver.get(\"https://truthsocial.com/@realDonaldTrump\")"
   ]
  },
  {
   "cell_type": "code",
   "execution_count": 15,
   "id": "521fe1d4",
   "metadata": {},
   "outputs": [
    {
     "name": "stdout",
     "output_type": "stream",
     "text": [
      "\n",
      "------------\n"
     ]
    }
   ],
   "source": [
    "# tweets = []\n",
    "# for link in df.links.iloc[9:]:\n",
    "#     link = \"https://truthsocial.com/@realDonaldTrump/posts/110119499865348840\"\n",
    "#     post_scrapper = Truth_post(driver,link)\n",
    "#     tweets.append({\"author\": post_scrapper.get_main_author(),\n",
    "#     'text':post_scrapper.get_text(),\n",
    "#     'list_reply_ids': post_scrapper.get_all_replies_ids()})\n",
    "#     break\n",
    "  \n",
    "link = \"https://truthsocial.com/@realDonaldTrump/posts/110119494178918999\"\n",
    "driver.get(link)\n",
    "driver.implicitly_wait(20)\n",
    "time.sleep(1)\n",
    "\n",
    "# get text and data of tweet\n",
    "print(driver.find_elements(By.CLASS_NAME,'ptr__children')[0].text)\n",
    "print(\"------------\")\n",
    "\n",
    "# get reply ids\n",
    "set_ids = get_ids(link)\n"
   ]
  },
  {
   "cell_type": "code",
   "execution_count": 12,
   "id": "7e7da606",
   "metadata": {},
   "outputs": [
    {
     "data": {
      "text/plain": [
       "59"
      ]
     },
     "execution_count": 12,
     "metadata": {},
     "output_type": "execute_result"
    }
   ],
   "source": [
    "len(set_ids)"
   ]
  },
  {
   "cell_type": "code",
   "execution_count": 179,
   "id": "b823b2da",
   "metadata": {},
   "outputs": [
    {
     "data": {
      "text/plain": [
       "[{'author': 'Donald J. Trump',\n",
       "  'text': 'Donald J. Trump\\n@realDonaldTrump\\n·\\nFeb 7\\nKevin McCarthy, who is a great guy, is having a seriously hard time staying awake. I give him credit for being true to himself and the cause. He is just not interested in what is being fed to the audience.\\n4.22k\\nReTruths\\n23.3k\\nLikes\\nFeb 07, 2023, 9:37 PM\\nReply\\nReTruth\\nLike',\n",
       "  'list_reply_ids': []}]"
      ]
     },
     "execution_count": 179,
     "metadata": {},
     "output_type": "execute_result"
    }
   ],
   "source": [
    "tweets"
   ]
  },
  {
   "cell_type": "code",
   "execution_count": 145,
   "id": "ea5c2bba",
   "metadata": {},
   "outputs": [],
   "source": [
    "post_scrapper.driver.refresh()\n",
    "time.sleep(1)\n",
    "pg_src = post_scrapper.driver.page_source\n",
    "soup = BeautifulSoup(pg_src,'html.parser')"
   ]
  },
  {
   "cell_type": "code",
   "execution_count": 161,
   "id": "0fdff6fb",
   "metadata": {},
   "outputs": [],
   "source": [
    "driver.refresh()\n"
   ]
  },
  {
   "cell_type": "code",
   "execution_count": 166,
   "id": "f21af117",
   "metadata": {},
   "outputs": [],
   "source": [
    "el1 = driver.find_elements(By.CLASS_NAME,'border-box')[0]"
   ]
  },
  {
   "cell_type": "code",
   "execution_count": 168,
   "id": "fbe98561",
   "metadata": {},
   "outputs": [
    {
     "ename": "InvalidSelectorException",
     "evalue": "Message: invalid selector: An invalid or illegal selector was specified\n  (Session info: chrome=111.0.5563.147)\nStacktrace:\nBacktrace:\n\t(No symbol) [0x0053DCE3]\n\t(No symbol) [0x004D39D1]\n\t(No symbol) [0x003E4DA8]\n\t(No symbol) [0x003E76FB]\n\t(No symbol) [0x003E75D0]\n\t(No symbol) [0x003E7850]\n\t(No symbol) [0x0040FDF8]\n\t(No symbol) [0x004103AB]\n\t(No symbol) [0x004087D1]\n\t(No symbol) [0x0042AF14]\n\t(No symbol) [0x00408726]\n\t(No symbol) [0x0042B224]\n\t(No symbol) [0x0043D57C]\n\t(No symbol) [0x0042ACC6]\n\t(No symbol) [0x00406F68]\n\t(No symbol) [0x004080CD]\n\tGetHandleVerifier [0x007B3832+2506274]\n\tGetHandleVerifier [0x007E9794+2727300]\n\tGetHandleVerifier [0x007EE36C+2746716]\n\tGetHandleVerifier [0x005E6690+617600]\n\t(No symbol) [0x004DC712]\n\t(No symbol) [0x004E1FF8]\n\t(No symbol) [0x004E20DB]\n\t(No symbol) [0x004EC63B]\n\tBaseThreadInitThunk [0x75917D69+25]\n\tRtlInitializeExceptionChain [0x77C3B74B+107]\n\tRtlClearBits [0x77C3B6CF+191]\n",
     "output_type": "error",
     "traceback": [
      "\u001b[1;31m---------------------------------------------------------------------------\u001b[0m",
      "\u001b[1;31mInvalidSelectorException\u001b[0m                  Traceback (most recent call last)",
      "\u001b[1;32m~\\AppData\\Local\\Temp\\ipykernel_17124\\716188339.py\u001b[0m in \u001b[0;36m<module>\u001b[1;34m\u001b[0m\n\u001b[1;32m----> 1\u001b[1;33m \u001b[0mel1\u001b[0m\u001b[1;33m.\u001b[0m\u001b[0mfind_element\u001b[0m\u001b[1;33m(\u001b[0m\u001b[0mBy\u001b[0m\u001b[1;33m.\u001b[0m\u001b[0mCLASS_NAME\u001b[0m\u001b[1;33m,\u001b[0m\u001b[1;34m'flex rtl:space-x-reverse items-center space-x-1'\u001b[0m\u001b[1;33m)\u001b[0m\u001b[1;33m\u001b[0m\u001b[1;33m\u001b[0m\u001b[0m\n\u001b[0m",
      "\u001b[1;32m~\\AppData\\Roaming\\Python\\Python39\\site-packages\\selenium\\webdriver\\remote\\webelement.py\u001b[0m in \u001b[0;36mfind_element\u001b[1;34m(self, by, value)\u001b[0m\n\u001b[0;32m    431\u001b[0m             \u001b[0mvalue\u001b[0m \u001b[1;33m=\u001b[0m \u001b[1;34m'[name=\"%s\"]'\u001b[0m \u001b[1;33m%\u001b[0m \u001b[0mvalue\u001b[0m\u001b[1;33m\u001b[0m\u001b[1;33m\u001b[0m\u001b[0m\n\u001b[0;32m    432\u001b[0m \u001b[1;33m\u001b[0m\u001b[0m\n\u001b[1;32m--> 433\u001b[1;33m         \u001b[1;32mreturn\u001b[0m \u001b[0mself\u001b[0m\u001b[1;33m.\u001b[0m\u001b[0m_execute\u001b[0m\u001b[1;33m(\u001b[0m\u001b[0mCommand\u001b[0m\u001b[1;33m.\u001b[0m\u001b[0mFIND_CHILD_ELEMENT\u001b[0m\u001b[1;33m,\u001b[0m \u001b[1;33m{\u001b[0m\u001b[1;34m\"using\"\u001b[0m\u001b[1;33m:\u001b[0m \u001b[0mby\u001b[0m\u001b[1;33m,\u001b[0m \u001b[1;34m\"value\"\u001b[0m\u001b[1;33m:\u001b[0m \u001b[0mvalue\u001b[0m\u001b[1;33m}\u001b[0m\u001b[1;33m)\u001b[0m\u001b[1;33m[\u001b[0m\u001b[1;34m\"value\"\u001b[0m\u001b[1;33m]\u001b[0m\u001b[1;33m\u001b[0m\u001b[1;33m\u001b[0m\u001b[0m\n\u001b[0m\u001b[0;32m    434\u001b[0m \u001b[1;33m\u001b[0m\u001b[0m\n\u001b[0;32m    435\u001b[0m     \u001b[1;32mdef\u001b[0m \u001b[0mfind_elements\u001b[0m\u001b[1;33m(\u001b[0m\u001b[0mself\u001b[0m\u001b[1;33m,\u001b[0m \u001b[0mby\u001b[0m\u001b[1;33m=\u001b[0m\u001b[0mBy\u001b[0m\u001b[1;33m.\u001b[0m\u001b[0mID\u001b[0m\u001b[1;33m,\u001b[0m \u001b[0mvalue\u001b[0m\u001b[1;33m=\u001b[0m\u001b[1;32mNone\u001b[0m\u001b[1;33m)\u001b[0m \u001b[1;33m->\u001b[0m \u001b[0mlist\u001b[0m\u001b[1;33m[\u001b[0m\u001b[0mWebElement\u001b[0m\u001b[1;33m]\u001b[0m\u001b[1;33m:\u001b[0m\u001b[1;33m\u001b[0m\u001b[1;33m\u001b[0m\u001b[0m\n",
      "\u001b[1;32m~\\AppData\\Roaming\\Python\\Python39\\site-packages\\selenium\\webdriver\\remote\\webelement.py\u001b[0m in \u001b[0;36m_execute\u001b[1;34m(self, command, params)\u001b[0m\n\u001b[0;32m    408\u001b[0m             \u001b[0mparams\u001b[0m \u001b[1;33m=\u001b[0m \u001b[1;33m{\u001b[0m\u001b[1;33m}\u001b[0m\u001b[1;33m\u001b[0m\u001b[1;33m\u001b[0m\u001b[0m\n\u001b[0;32m    409\u001b[0m         \u001b[0mparams\u001b[0m\u001b[1;33m[\u001b[0m\u001b[1;34m\"id\"\u001b[0m\u001b[1;33m]\u001b[0m \u001b[1;33m=\u001b[0m \u001b[0mself\u001b[0m\u001b[1;33m.\u001b[0m\u001b[0m_id\u001b[0m\u001b[1;33m\u001b[0m\u001b[1;33m\u001b[0m\u001b[0m\n\u001b[1;32m--> 410\u001b[1;33m         \u001b[1;32mreturn\u001b[0m \u001b[0mself\u001b[0m\u001b[1;33m.\u001b[0m\u001b[0m_parent\u001b[0m\u001b[1;33m.\u001b[0m\u001b[0mexecute\u001b[0m\u001b[1;33m(\u001b[0m\u001b[0mcommand\u001b[0m\u001b[1;33m,\u001b[0m \u001b[0mparams\u001b[0m\u001b[1;33m)\u001b[0m\u001b[1;33m\u001b[0m\u001b[1;33m\u001b[0m\u001b[0m\n\u001b[0m\u001b[0;32m    411\u001b[0m \u001b[1;33m\u001b[0m\u001b[0m\n\u001b[0;32m    412\u001b[0m     \u001b[1;32mdef\u001b[0m \u001b[0mfind_element\u001b[0m\u001b[1;33m(\u001b[0m\u001b[0mself\u001b[0m\u001b[1;33m,\u001b[0m \u001b[0mby\u001b[0m\u001b[1;33m=\u001b[0m\u001b[0mBy\u001b[0m\u001b[1;33m.\u001b[0m\u001b[0mID\u001b[0m\u001b[1;33m,\u001b[0m \u001b[0mvalue\u001b[0m\u001b[1;33m=\u001b[0m\u001b[1;32mNone\u001b[0m\u001b[1;33m)\u001b[0m \u001b[1;33m->\u001b[0m \u001b[0mWebElement\u001b[0m\u001b[1;33m:\u001b[0m\u001b[1;33m\u001b[0m\u001b[1;33m\u001b[0m\u001b[0m\n",
      "\u001b[1;32m~\\AppData\\Roaming\\Python\\Python39\\site-packages\\selenium\\webdriver\\remote\\webdriver.py\u001b[0m in \u001b[0;36mexecute\u001b[1;34m(self, driver_command, params)\u001b[0m\n\u001b[0;32m    442\u001b[0m         \u001b[0mresponse\u001b[0m \u001b[1;33m=\u001b[0m \u001b[0mself\u001b[0m\u001b[1;33m.\u001b[0m\u001b[0mcommand_executor\u001b[0m\u001b[1;33m.\u001b[0m\u001b[0mexecute\u001b[0m\u001b[1;33m(\u001b[0m\u001b[0mdriver_command\u001b[0m\u001b[1;33m,\u001b[0m \u001b[0mparams\u001b[0m\u001b[1;33m)\u001b[0m\u001b[1;33m\u001b[0m\u001b[1;33m\u001b[0m\u001b[0m\n\u001b[0;32m    443\u001b[0m         \u001b[1;32mif\u001b[0m \u001b[0mresponse\u001b[0m\u001b[1;33m:\u001b[0m\u001b[1;33m\u001b[0m\u001b[1;33m\u001b[0m\u001b[0m\n\u001b[1;32m--> 444\u001b[1;33m             \u001b[0mself\u001b[0m\u001b[1;33m.\u001b[0m\u001b[0merror_handler\u001b[0m\u001b[1;33m.\u001b[0m\u001b[0mcheck_response\u001b[0m\u001b[1;33m(\u001b[0m\u001b[0mresponse\u001b[0m\u001b[1;33m)\u001b[0m\u001b[1;33m\u001b[0m\u001b[1;33m\u001b[0m\u001b[0m\n\u001b[0m\u001b[0;32m    445\u001b[0m             \u001b[0mresponse\u001b[0m\u001b[1;33m[\u001b[0m\u001b[1;34m\"value\"\u001b[0m\u001b[1;33m]\u001b[0m \u001b[1;33m=\u001b[0m \u001b[0mself\u001b[0m\u001b[1;33m.\u001b[0m\u001b[0m_unwrap_value\u001b[0m\u001b[1;33m(\u001b[0m\u001b[0mresponse\u001b[0m\u001b[1;33m.\u001b[0m\u001b[0mget\u001b[0m\u001b[1;33m(\u001b[0m\u001b[1;34m\"value\"\u001b[0m\u001b[1;33m,\u001b[0m \u001b[1;32mNone\u001b[0m\u001b[1;33m)\u001b[0m\u001b[1;33m)\u001b[0m\u001b[1;33m\u001b[0m\u001b[1;33m\u001b[0m\u001b[0m\n\u001b[0;32m    446\u001b[0m             \u001b[1;32mreturn\u001b[0m \u001b[0mresponse\u001b[0m\u001b[1;33m\u001b[0m\u001b[1;33m\u001b[0m\u001b[0m\n",
      "\u001b[1;32m~\\AppData\\Roaming\\Python\\Python39\\site-packages\\selenium\\webdriver\\remote\\errorhandler.py\u001b[0m in \u001b[0;36mcheck_response\u001b[1;34m(self, response)\u001b[0m\n\u001b[0;32m    247\u001b[0m                 \u001b[0malert_text\u001b[0m \u001b[1;33m=\u001b[0m \u001b[0mvalue\u001b[0m\u001b[1;33m[\u001b[0m\u001b[1;34m\"alert\"\u001b[0m\u001b[1;33m]\u001b[0m\u001b[1;33m.\u001b[0m\u001b[0mget\u001b[0m\u001b[1;33m(\u001b[0m\u001b[1;34m\"text\"\u001b[0m\u001b[1;33m)\u001b[0m\u001b[1;33m\u001b[0m\u001b[1;33m\u001b[0m\u001b[0m\n\u001b[0;32m    248\u001b[0m             \u001b[1;32mraise\u001b[0m \u001b[0mexception_class\u001b[0m\u001b[1;33m(\u001b[0m\u001b[0mmessage\u001b[0m\u001b[1;33m,\u001b[0m \u001b[0mscreen\u001b[0m\u001b[1;33m,\u001b[0m \u001b[0mstacktrace\u001b[0m\u001b[1;33m,\u001b[0m \u001b[0malert_text\u001b[0m\u001b[1;33m)\u001b[0m  \u001b[1;31m# type: ignore[call-arg]  # mypy is not smart enough here\u001b[0m\u001b[1;33m\u001b[0m\u001b[1;33m\u001b[0m\u001b[0m\n\u001b[1;32m--> 249\u001b[1;33m         \u001b[1;32mraise\u001b[0m \u001b[0mexception_class\u001b[0m\u001b[1;33m(\u001b[0m\u001b[0mmessage\u001b[0m\u001b[1;33m,\u001b[0m \u001b[0mscreen\u001b[0m\u001b[1;33m,\u001b[0m \u001b[0mstacktrace\u001b[0m\u001b[1;33m)\u001b[0m\u001b[1;33m\u001b[0m\u001b[1;33m\u001b[0m\u001b[0m\n\u001b[0m",
      "\u001b[1;31mInvalidSelectorException\u001b[0m: Message: invalid selector: An invalid or illegal selector was specified\n  (Session info: chrome=111.0.5563.147)\nStacktrace:\nBacktrace:\n\t(No symbol) [0x0053DCE3]\n\t(No symbol) [0x004D39D1]\n\t(No symbol) [0x003E4DA8]\n\t(No symbol) [0x003E76FB]\n\t(No symbol) [0x003E75D0]\n\t(No symbol) [0x003E7850]\n\t(No symbol) [0x0040FDF8]\n\t(No symbol) [0x004103AB]\n\t(No symbol) [0x004087D1]\n\t(No symbol) [0x0042AF14]\n\t(No symbol) [0x00408726]\n\t(No symbol) [0x0042B224]\n\t(No symbol) [0x0043D57C]\n\t(No symbol) [0x0042ACC6]\n\t(No symbol) [0x00406F68]\n\t(No symbol) [0x004080CD]\n\tGetHandleVerifier [0x007B3832+2506274]\n\tGetHandleVerifier [0x007E9794+2727300]\n\tGetHandleVerifier [0x007EE36C+2746716]\n\tGetHandleVerifier [0x005E6690+617600]\n\t(No symbol) [0x004DC712]\n\t(No symbol) [0x004E1FF8]\n\t(No symbol) [0x004E20DB]\n\t(No symbol) [0x004EC63B]\n\tBaseThreadInitThunk [0x75917D69+25]\n\tRtlInitializeExceptionChain [0x77C3B74B+107]\n\tRtlClearBits [0x77C3B6CF+191]\n"
     ]
    }
   ],
   "source": [
    "el1.find_element(By.CLASS_NAME,'flex rtl:space-x-reverse items-center space-x-1')"
   ]
  },
  {
   "cell_type": "code",
   "execution_count": 171,
   "id": "782825f4",
   "metadata": {},
   "outputs": [],
   "source": [
    "driver.refresh()"
   ]
  },
  {
   "cell_type": "code",
   "execution_count": 176,
   "id": "1f1e23db",
   "metadata": {},
   "outputs": [
    {
     "data": {
      "text/plain": [
       "'realDonaldTrump'"
      ]
     },
     "execution_count": 176,
     "metadata": {},
     "output_type": "execute_result"
    }
   ],
   "source": []
  },
  {
   "cell_type": "code",
   "execution_count": null,
   "id": "274db7d9",
   "metadata": {},
   "outputs": [],
   "source": []
  }
 ],
 "metadata": {
  "kernelspec": {
   "display_name": "Python 3 (ipykernel)",
   "language": "python",
   "name": "python3"
  },
  "language_info": {
   "codemirror_mode": {
    "name": "ipython",
    "version": 3
   },
   "file_extension": ".py",
   "mimetype": "text/x-python",
   "name": "python",
   "nbconvert_exporter": "python",
   "pygments_lexer": "ipython3",
   "version": "3.9.13"
  }
 },
 "nbformat": 4,
 "nbformat_minor": 5
}
